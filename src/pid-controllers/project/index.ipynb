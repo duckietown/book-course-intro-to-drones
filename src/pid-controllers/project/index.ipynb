{
 "cells": [
  {
   "attachments": {},
   "cell_type": "markdown",
   "metadata": {},
   "source": [
    "# Project 3: Implementing an Altitude PID Controller {#pid-overview status=ready}\n",
    "\n",
    "## Overview\n",
    "For this project, you will be implementing a one-dimensional PID controller to control the drone's altitude (movement along the drone's z-axis). In part one, you will write your PID class and test it using a drone simulator. In part two, you will answer questions about control. \n",
    "\n",
    "There is one section that is not required for this project. In Appendix A, we explain how to transfer the altitude PID controller you wrote in part 1 to your drone and tune it to achieve stable flight.\n",
    "\n",
    "## Handin\n",
    "Use this [link](https://classroom.github.com/a/ruiWJMsA) to generate a Github repo for this project. Clone the directory to your computer `git clone https://github.com/h2r/project-pid-implementation-yourGithubName.git` This will create a new folder. The _README.md_ in your repo provides short descriptions of each project file.\n",
    "\n",
    "When you submit your assignment, your folder should contain the following files (that you modified) in addition to all of the other files that came with your repo:\n",
    "\n",
    "* _answers_pid.md_\n",
    "* _student_pid_class.py_\n",
    "* _z_pid.yaml_\n",
    "\n",
    "Commit and push your changes before the assignment is due. This will allow us to access the files you pushed to Github and grade them accordingly. If you commit and push after the assignment deadline, we will use your latest commit as your final submission, and you will be marked late.\n",
    "\n",
    "```\n",
    "cd project-pid-implementation-yourGitHubName\n",
    "git add -A\n",
    "git commit -a -m 'some commit message. maybe handin, maybe update'\n",
    "git push\n",
    "```\n",
    "\n",
    "Note that assignments will be graded anonymously, so please don't put your name or any other identifying information on the files you hand in.\n"
   ]
  }
 ],
 "metadata": {
  "language_info": {
   "name": "python"
  },
  "orig_nbformat": 4
 },
 "nbformat": 4,
 "nbformat_minor": 2
}
