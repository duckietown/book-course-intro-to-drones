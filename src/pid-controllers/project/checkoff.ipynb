{
 "cells": [
  {
   "attachments": {},
   "cell_type": "markdown",
   "metadata": {},
   "source": [
    "# Project Checkoff  {#pid-checkoff status=ready}\n",
    "\n",
    "## Functionality Check\n",
    "\n",
    "1. The output of `step()` function in `student_pid_class.py` should be between 1100 and 1900.\n",
    "2. The simulated drone should converge exactly at the setpoint and not oscillate for:    \n",
    "- Idealized PID, `python sim.py`,  \n",
    "- PID with latency, `python sim.py -l 6`, \n",
    "- PID with latency, noise and drag, `python sim.py -l 3 -n 0.5 -d 0.02`     \n",
    "\n",
    "## Questions\n",
    "\n",
    "You will be asked to answer one of the following questions:\n",
    "\n",
    "1. In `step()` function in `student_pid_class.py`, which lines of your code relate to P/I/D term and how do you calculate u(t)?\n",
    "2. In `reset()` function in `student_pid_class.py`, which variables you updated and why?\n"
   ]
  },
  {
   "cell_type": "code",
   "execution_count": null,
   "metadata": {},
   "outputs": [],
   "source": []
  }
 ],
 "metadata": {
  "kernelspec": {
   "display_name": "Python 3",
   "language": "python",
   "name": "python3"
  },
  "language_info": {
   "name": "python",
   "version": "3.10.6"
  },
  "orig_nbformat": 4,
  "vscode": {
   "interpreter": {
    "hash": "916dbcbb3f70747c44a77c7bcd40155683ae19c65e1c03b4aa3499c5328201f1"
   }
  }
 },
 "nbformat": 4,
 "nbformat_minor": 2
}
