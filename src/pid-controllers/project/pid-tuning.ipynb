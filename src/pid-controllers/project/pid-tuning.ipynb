{
 "cells": [
  {
   "attachments": {},
   "cell_type": "markdown",
   "metadata": {},
   "source": [
    "# Part 2: Tuning {#pid-tuning status=ready}\n",
    "\n",
    "Write brief answers to all exercises in <i>answers_pid.md</i>.\n",
    "  \n",
    "## Problem 1: Ziegler-Nichols Method\n",
    "Imagine you are flying your drone and observing its flight for tuning it. Ideally, you would tune the $K_p$ by slowly increasing its value between flights until you can see the drone moving up and down with uniform oscillations. The final $K_p$ value that causes uniform oscillations is termed as $K_u$, the ultimate gain. While, the time difference between these two peaks during osciallations is termed as $T_u$, the ultimate period.\n",
    "  \n",
    "  **Exercises** \n",
    "   1. Given $K_u$ = 500, $T_u$ = 10. Use your $K_u$ and $T_u$ values to compute $K_p$, $K_i$, and $K_d$ using Ziegler-Nichols Method. \n",
    "   \n",
    "\n",
    "## Problem 2: Flying with Velocity Control \n",
    "In velocity control, we use planar velocity measure from the camera as the process variable. The keyboard keys are used to set the setpoints.\n",
    "\n",
    "  **Exercises** \n",
    "  1. Now suppose you are flying in velocity mode over a blank white poster board. How do you expect the drone to behave and why will it behave this way? Hint: think about why we fly over a highly textured planar surface.\n"
   ]
  },
  {
   "cell_type": "code",
   "execution_count": null,
   "metadata": {},
   "outputs": [],
   "source": []
  }
 ],
 "metadata": {
  "kernelspec": {
   "display_name": "Python 3",
   "language": "python",
   "name": "python3"
  },
  "language_info": {
   "name": "python",
   "version": "3.10.6"
  },
  "orig_nbformat": 4,
  "vscode": {
   "interpreter": {
    "hash": "916dbcbb3f70747c44a77c7bcd40155683ae19c65e1c03b4aa3499c5328201f1"
   }
  }
 },
 "nbformat": 4,
 "nbformat_minor": 2
}
