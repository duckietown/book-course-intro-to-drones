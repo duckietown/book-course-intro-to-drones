{
 "cells": [
  {
   "attachments": {},
   "cell_type": "markdown",
   "metadata": {},
   "source": [
    "# Unscented Kalman Filter\n",
    "\n",
    "The fundamental issue of state estimation impacts widespread robotics\n",
    "applications. Sensors give us an imperfect view of the world, as they\n",
    "tend to contain noise in their readings. Similarly, when a robot moves\n",
    "in the physical world, its motion has some amount of uncertainty,\n",
    "deviating randomly from the ideal model that we predict it might\n",
    "follow. Rather than ignoring these uncertainties and forming a naive\n",
    "state estimate, we will be harnessing the power of probability to\n",
    "yield mathematically optimal estimates using the Unscented Kalman\n",
    "Filter (UKF) algorithm. The Kalman Filter (KF) algorithm and its\n",
    "variants such as the UKF comprise part of the field of probabilistic\n",
    "robotics, which aims to account for uncertainties that the robot will\n",
    "inherently face as it interacts with the world with imperfect\n",
    "information.  An entire course could be taught only on the topics of\n",
    "filtering and state estimation.\n",
    "\n",
    "In this project, we give a high-level overview of the necessary\n",
    "foundations to understand the UKF algorithm. Then, you will implement\n",
    "a UKF with a simple one-dimensional model of the drone's motion to\n",
    "estimate its position and velocity along the vertical axis. Later on\n",
    "in the project, we will expand the model to three spatial dimensions.\n"
   ]
  }
 ],
 "metadata": {
  "kernelspec": {
   "display_name": "Python 3",
   "language": "python",
   "name": "python3"
  },
  "language_info": {
   "name": "python",
   "version": "3.10.6"
  },
  "orig_nbformat": 4,
  "vscode": {
   "interpreter": {
    "hash": "916dbcbb3f70747c44a77c7bcd40155683ae19c65e1c03b4aa3499c5328201f1"
   }
  }
 },
 "nbformat": 4,
 "nbformat_minor": 2
}
