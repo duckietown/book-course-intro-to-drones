{
 "cells": [
  {
   "attachments": {},
   "cell_type": "markdown",
   "metadata": {},
   "source": [
    "(ukf-design-and-implementation-steps)=\n",
    "# Steps to Design and Implement a Kalman Filter on a Robot\n",
    "\n",
    "To apply a Kalman Filter (linear KF or UKF) to a specific robot, there are certain parts of the algorithm that we need to define.\n",
    "\n",
    "1. **State Vector:** The first aspect of the KF design process specific to the robot application is the selection of state variables to track in the state vector.\n",
    "2. **Motion Model:** The motion model of the robot demands careful thought when designing a KF, as it determines the state transition function.\n",
    "3. **Measurement Model:** The robot's sensor suite plays a significant role in how the robot forms state estimates. Its sensors determine the measurement function.\n",
    "4. **Process Noise and Measurement Covariance Matrices:** The process noise and measurement covariance matrices must be determined from the motion model and sensor suite, respectively.\n",
    "5. **Initialization of the Filter:** The filter must have initial values on which to perform the predictions and measurement updates.\n",
    "6. **Asynchronous Inputs:** Sometimes, the KF has to be adapted to handle asynchronous inputs from real-world sensors, whose data rates are not strictly fixed.\n",
    "7. **Tuning and Testing:** Finally, once a filter is implemented, it is a good idea to tune and test it in simulation and then on the real robot, quantifying its performance if possible.\n",
    "\n",
    "We will be going over these design decisions and implementation details step-by-step as you implement your filters in one and three spatial dimensions on the drone.\n"
   ]
  }
 ],
 "metadata": {
  "kernelspec": {
   "display_name": "Python 3",
   "language": "python",
   "name": "python3"
  },
  "language_info": {
   "name": "python",
   "version": "3.10.6"
  },
  "orig_nbformat": 4,
  "vscode": {
   "interpreter": {
    "hash": "916dbcbb3f70747c44a77c7bcd40155683ae19c65e1c03b4aa3499c5328201f1"
   }
  }
 },
 "nbformat": 4,
 "nbformat_minor": 2
}
