{
 "cells": [
  {
   "attachments": {},
   "cell_type": "markdown",
   "metadata": {},
   "source": [
    "(sensors-assignment-tof)=\n",
    "# Using your Time-of-flight Sensor\n",
    "\n",
    "In this part of the project, you will learn how to estimate the drone's height using its time-of-flight sensor. The drone is equipped with a [VL53L0X](https://learn.adafruit.com/adafruit-vl53l0x-micro-lidar-distance-sensor-breakout), which is used for estimating the distance from the drone to the ground-plane. The sensor outputs a digital signal containing the distance from the sensor and read in by the Raspberry Pi via the GPIO pin using the associated [Python library](https://docs.circuitpython.org/projects/vl53l0x/en/latest/). The voltage value corresponds to distance, but we are going to need to do some work to convert it to real-world units.\n",
    "\n",
    "**Setup**\n",
    "\n",
    "Change to `~/catkin_ws/src` on your drone, and then `git clone https://github.com/h2r/project-sensors-implementation-yourGithubName`.  You should create a github personal access token for your drone to make this possible.  It only needs permissions to read and write to repositories. \n",
    "\n",
    "\n",
    "Change directories into `~/catkin_ws/src/project-sensors-implementation-yourGithubName`.  You can `rosrun project-sensors-yourGithubName student_tof_pub.py`.  You may stop _student_tof_pub.py_ with ctrl-c, edit it within that tab, and then re-run `rosrun project-sensors-yourGithubName student_tof_pub.py` to test your changes.\n",
    "\n",
    "\n",
    "## Problem 1: Publish your TOF Reading\n",
    "In `student_tof_pub.py`, fill in the minimum range, maximum range, and current range read from the sensor into the ROS message.  When you run this node, you will be publishing a [ROS Range message](http://docs.ros.org/api/sensor_msgs/html/msg/Range.html) which is a standard message included with ROS.\n",
    "\n",
    "## Checkoff:\n",
    "Using `rostopic echo /pidrone/range` or the height graph on the web interface, verify that:\n",
    "\n",
    "  * The TOF node is publishing a message with all the fields you want\n",
    "  * The range field of the message is a roughly accurate measure of the drone's altitude\n",
    "\n",
    "You can now fly your drone with your own range node!\n"
   ]
  }
 ],
 "metadata": {
  "kernelspec": {
   "display_name": "Python 3",
   "language": "python",
   "name": "python3"
  },
  "language_info": {
   "name": "python",
   "version": "3.10.6"
  },
  "orig_nbformat": 4,
  "vscode": {
   "interpreter": {
    "hash": "916dbcbb3f70747c44a77c7bcd40155683ae19c65e1c03b4aa3499c5328201f1"
   }
  }
 },
 "nbformat": 4,
 "nbformat_minor": 2
}
