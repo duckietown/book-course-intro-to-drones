{
 "cells": [
  {
   "attachments": {},
   "cell_type": "markdown",
   "metadata": {},
   "source": [
    "# Interfacing with the IMU {#sensors-assignment-imu status=ready}\n",
    "\n",
    "Your drone is equipped with a [Skyline32 Flight Controller](https://hobbyking.com/en_us/skyline32-acro-flight-controller-w-baseflight-cleanflight.html) which has a built in IMU. In this part of the project, you will learn how to interface with the flight controller board to extract the attitude, accelerations, angular rates of the drone from the built-in IMU. In addition, you will extract the battery levels from the flight controller so that you'll be able to tell when you're battery is too low.\n",
    "\n",
    "**Setup**\n",
    "Change directories into `~/ws/src/pidrone_pkg` and modify _pi.screenrc_ to start up with your flight controller node by changing `python flight_controller_node.py\\n` to `rosrun project-sensors-yourGithubName student_flight_controller_node.py\\n` (or, alternatively, `python \\path\\to\\student_flight_controller_node.py\\n`).\n",
    "\n",
    "## Problem 1: Extracting the Battery Data\n",
    "The flight controller is capable of reading the voltage and current of the power source plugged into the drone. This is possible because of the red and brown wire pair (i.e. _battery monitor_ wire pair) plugged into the FC. The power information is useful because it allows us to programmatically shut down the drone if the voltage is too low (e.g. Lipo batteries are quickly ruined if discharged too low).\n",
    "\n",
    "**TODO**:    \n",
    "1. Take a look at Battery.msg in the ~/ws/src/pidrone_pkg/msg directory on your drone. This is a custom message we've created to communicate the battery values.\n",
    "2. In `student_flight_controller_node.py`, do the following:    \n",
    "    - Fill in each `TODO` regarding the `battery_message` in the `__init__` method.\n",
    "    - Fill in each `TODO` in the `update_battery_message` method.\n",
    "\n",
    "\n",
    "## Problem 2: Extracting IMU data\n",
    "Linear accelerations and attitude (i.e. roll, pitch, yaw) can also be extracted from the FC, thanks to the accelerometer and gyroscope. In addition, the angular rates (e.g. change in roll over change in time) can be calculated by using the attitude measurements.\n",
    "\n",
    "**TODO**:    \n",
    "1. Take a look at the [Imu ROS message type](http://docs.ros.org/api/sensor_msgs/html/msg/Imu.html) to get an understanding of the data you'll be collecting.\n",
    "2. In `student_flight_controller_node.py`, do the following:    \n",
    "    - Fill in each `TODO` regarding the `imu_message` in the `__init__` method.\n",
    "    - Fill in each `TODO` in the `update_imu_message` method.\n"
   ]
  },
  {
   "cell_type": "code",
   "execution_count": null,
   "metadata": {},
   "outputs": [],
   "source": []
  }
 ],
 "metadata": {
  "kernelspec": {
   "display_name": "Python 3",
   "language": "python",
   "name": "python3"
  },
  "language_info": {
   "name": "python",
   "version": "3.10.6"
  },
  "orig_nbformat": 4,
  "vscode": {
   "interpreter": {
    "hash": "916dbcbb3f70747c44a77c7bcd40155683ae19c65e1c03b4aa3499c5328201f1"
   }
  }
 },
 "nbformat": 4,
 "nbformat_minor": 2
}
