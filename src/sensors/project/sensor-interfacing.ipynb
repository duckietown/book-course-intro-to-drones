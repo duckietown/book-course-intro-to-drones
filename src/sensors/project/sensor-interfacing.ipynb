{
 "cells": [
  {
   "attachments": {},
   "cell_type": "markdown",
   "metadata": {},
   "source": [
    "(sensors-project)=\n",
    "# Project 2: Sensor Interfacing\n",
    "\n",
    "## Overview\n",
    "In this project, you will be interfacing with your drone's sensors to extract data, parse it into useful values, and publish the data on ROS topics. First, you will interface with the infrared range sensor, thus providing the drone with knowledge of its height relative to the ground. Then, you will interface with the IMU through the flight controller to extract the attitude of the drone (roll, pitch, and yaw), linear accelerations, and calculate the angular rates. Finally, you will interface with the camera to extract velocities using optical flow, and positions using rigid transforms. Woah, that's a lot of data! This is because you are in fact obtaining all the information from each sensor that you will need for the drone to fly autonomously. In the next project, you will write a state estimator which fuses all of this sensor data to estimate the state of the drone.\n",
    "\n",
    "## How this project fits into software stack\n",
    "Take a look at the [software architecture diagram](software-architecture-diagram-dd-21) and notice the hardware components: <i>Flight Controller</i>, <i>Infrared Sensor</i>, and <i>Camera</i>. This is the hardware you'll be interfacing with in this project. Also notice the corresponding ROS nodes in the diagram. These are the ROS nodes you'll be creating to extract and publish sensor values.\n",
    "\n",
    "## A note about how to approach this project\n",
    "These docs give a high-level overview of the project. You will find more detailed directions in the stencil code. If you are unsure about what you have to do after reading these docs, the stencil code should give you a clearer idea.\n",
    "\n",
    "## Handin\n",
    "Use [this link](https://classroom.github.com/a/hjzlRyNm) to generate a GitHub repo for this project. Clone the directory to your computer with `git clone https://github.com/h2r/project-sensors-implementation-yourGithubName.git`. This will create a new folder. \n",
    "\n",
    "When you submit your assignment, your folder should contain modified versions of the following files in addition to the other files that came with your repo:\n",
    "\n",
    "* `student_infrared_pub.py`\n",
    "* `student_analyze_flow.py`\n",
    "* `student_analyze_phase.py`\n",
    "* `student_flight_controller_node.py`\n",
    "\n",
    "Commit and push your changes before the assignment is due. This will allow us to access the files you pushed to GitHub and grade them accordingly. If you commit and push after the assignment deadline, we will use your latest commit as your final submission, and you will be marked late.\n",
    "\n",
    "```\n",
    "cd project-sensors-implementation-yourGithubName\n",
    "git add -A\n",
    "git commit -a -m 'some commit message. maybe hand-in, maybe update'\n",
    "git push\n",
    "```\n",
    "\n",
    "Note that assignments will be graded anonymously, so please don't put your name or any other identifying information on the files you hand in.\n"
   ]
  }
 ],
 "metadata": {
  "kernelspec": {
   "display_name": "Python 3",
   "language": "python",
   "name": "python3"
  },
  "language_info": {
   "name": "python",
   "version": "3.10.6"
  },
  "orig_nbformat": 4,
  "vscode": {
   "interpreter": {
    "hash": "916dbcbb3f70747c44a77c7bcd40155683ae19c65e1c03b4aa3499c5328201f1"
   }
  }
 },
 "nbformat": 4,
 "nbformat_minor": 2
}
