{
 "cells": [
  {
   "attachments": {},
   "cell_type": "markdown",
   "metadata": {},
   "source": [
    "(sensors-assignment-checkoff)=\n",
    "# Project Checkoff\n",
    "\n",
    "## Functionality Check\n",
    "\n",
    "1. Run `student_tof_pub.py` and open up the web interface. Move the drone up and down and ensure that the height readings are reasonable.\n",
    "2. Run `student_optical_flow_node.py` and `student_rigid_transform_node.py` and open up the web interface. Turn on velocity control (enabled by default). Slowly move the drone around over a highly textured planar surface and ensure that the raw velocity readings are reasonable.\n",
    "\n",
    "<!-- this 2. is provisional since we have a bug where drones cannot be set to position mode. Currently working on fixing this, and then should be switched back -->\n",
    "\n",
    "\n",
    "## Questions\n",
    "\n",
    "You will be asked to answer one of the following questions:\n",
    "\n",
    "1. What types of measurements does the flight controller report in order to describe the orientation of the drone? What do we do to these measurements and why?\n",
    "2. How does optical flow allow us to estimate the planar velocity of the drone? Why do we need to fly over a textured surface?\n",
    "3. Why do we have a `state_callback` in `student_analyze_phase.py`? What do we do with the state information?\n"
   ]
  }
 ],
 "metadata": {
  "kernelspec": {
   "display_name": "Python 3",
   "language": "python",
   "name": "python3"
  },
  "language_info": {
   "name": "python",
   "version": "3.10.6"
  },
  "orig_nbformat": 4,
  "vscode": {
   "interpreter": {
    "hash": "916dbcbb3f70747c44a77c7bcd40155683ae19c65e1c03b4aa3499c5328201f1"
   }
  }
 },
 "nbformat": 4,
 "nbformat_minor": 2
}
