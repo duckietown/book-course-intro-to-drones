{
 "cells": [
  {
   "attachments": {},
   "cell_type": "markdown",
   "metadata": {},
   "source": [
    "(ros-assignment)=\n",
    "# Assignment\n",
    "\n",
    "First set up the docker image following [these instructions](docker.html).\n",
    "\n",
    "## Creating a Publisher and Subscriber (50 points)\n",
    "\n",
    "\n",
    "\n",
    "*Answer these questions in `ros.txt` and submit the ROS package you create.*\n",
    "\n",
    "1. Read [understanding nodes](http://wiki.ros.org/ROS/Tutorials/UnderstandingNodes).\n",
    "2. Start the `screen` session we use to fly the drone. (Look [here](https://docs.duckietown.com/daffy/opmanual-duckiedrone/flying/flying-your-drone.html#screen-environment) to refresh about the screen environment.) Use `rosnode list` to display what nodes are running when you start the screen. If you wish, take a look at the [software architecture diagram](https://docs.duckietown.com/daffy/opmanual-duckiedrone/software-architecture/introduction.html#diagram-of-the-software-architecture) and look at all of the blue ROS topics to gain a visual understanding of all of the nodes that are running. Once again, do not worry about understanding everything now, or knowing what each topic is used for- you will learn this through experience as the course progresses. *No answer is required for this question*\n",
    "3. Use `rosnode info` to find out more about as many nodes as you'd like. What is the name of the time of flight (tof) node and what topics does it publish?\n",
    "4. Do the ROS tutorial to [create a package](http://wiki.ros.org/ROS/Tutorials/CreatingPackage). Name your package `ros_assignment_pkg`.  Create it in the `catkin_ws/src` directory on your drone. \n",
    "5. Do the [building packages](http://wiki.ros.org/ROS/Tutorials/BuildingPackages) tutorial.\n",
    "\n",
    "6. Follow the [ROS publisher/subscriber tutorial](http://wiki.ros.org/ROS/Tutorials/WritingPublisherSubscriber%28python%29) using the workspace and package you created above. *Hand in the entire package.*\n",
    "7. Start the `screen` session we use to fly the drone. Use `rostopic echo` and `rostopic hz` to examine the results of various topics. What is the rate at which we are publishing the range reading?\n",
    "\n",
    "## Messages (5 points)\n",
    "\n",
    "*Make all modifications in your ROS package from Problem 1 and hand in the package*\n",
    "\n",
    "1. Read [Creating a ROS msg](https://wiki.ros.org/ROS/Tutorials/CreatingMsgAndSrv). You do not need to read the section on services.\n",
    "2. In your package from question 1, create a ROS message called `MyMessage`\n",
    "   with a field for a `string`, called `name`, and a field for an array of\n",
    "   `float64`, called `contents`. Edit files such as `CMakeLists.txt` to ensure\n",
    "   your message is compiled and available for use. *Make these modifications in the package from problem 1 and hand it in.*\n",
    "\n",
    "## Reading the TOF Sensor (15 points)\n",
    "\n",
    "1. Write a ROS subscriber on your drone to read the values from the time of flight\n",
    "   sensor topic and print them to `stdout`. *Name the file `my_echo.py` and\n",
    "   submit it.*\n",
    "2. Write a second ROS subscriber that listens to the time of flight sensor topic and\n",
    "   calculates the mean and variance over a ten second window using\n",
    "   [NumPy](https://jakevdp.github.io/PythonDataScienceHandbook/02.02-the-basics-of-numpy-arrays.html). Print these values to `stdout`. *Name the file `mean_and_variance.py` and submit it.*\n",
    "\n",
    "## Handin\n",
    "\n",
    "When you are done, use [this link](https://classroom.github.com/a/aOpoHGtd) to create your assignment Github Repo.\n",
    "\n",
    "- `my_echo.py`, `mean_and_variance.py`\n",
    "- `ros.txt`\n",
    "- `ros_assignment_pkg`"
   ]
  }
 ],
 "metadata": {
  "kernelspec": {
   "display_name": "Python 3",
   "language": "python",
   "name": "python3"
  },
  "language_info": {
   "name": "python",
   "version": "3.10.6"
  },
  "orig_nbformat": 4,
  "vscode": {
   "interpreter": {
    "hash": "916dbcbb3f70747c44a77c7bcd40155683ae19c65e1c03b4aa3499c5328201f1"
   }
  }
 },
 "nbformat": 4,
 "nbformat_minor": 2
}
